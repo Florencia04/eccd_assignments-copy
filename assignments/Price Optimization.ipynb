{
 "cells": [
  {
   "cell_type": "markdown",
   "id": "ccd92f88",
   "metadata": {},
   "source": [
    "<a href=\"https://colab.research.google.com/github/danski3456/coding_exercises/blob/main/exercises/Price%20Optimization.ipynb\" target=\"_parent\"><img src=\"https://colab.research.google.com/assets/colab-badge.svg\" alt=\"Open In Colab\"/></a>"
   ]
  },
  {
   "cell_type": "code",
   "execution_count": null,
   "id": "a349d4f4",
   "metadata": {},
   "outputs": [],
   "source": [
    "!wget -nv https://raw.githubusercontent.com/danski3456/notebook_grading/main/utils.py -O utils.py\n",
    "%run utils.py\n",
    "\n",
    "!pip install eccd_datasets > /dev/nul\n",
    "!pip install category_encoders > /dev/nul"
   ]
  },
  {
   "cell_type": "code",
   "execution_count": null,
   "id": "42e049db",
   "metadata": {},
   "outputs": [],
   "source": [
    "STUDENT_NAME = \"Nombre Apellido\"\n",
    "COURSE_NAME = \"eccd-feb22\"\n",
    "EXERCISE_NAME = \"price-optimization\""
   ]
  },
  {
   "cell_type": "markdown",
   "id": "397f10d1",
   "metadata": {},
   "source": [
    "# Objective\n",
    "\n",
    "The objective of this notebook, is to learn how to perform price optimization.\n",
    "\n",
    "The basic idea behind price optimization is to derive a model for demand forecasting that depends on the price, and then use the learned model to predict a demand curve.\n",
    "\n",
    "For this we will use the M5 competition dataset, large and popular dataset."
   ]
  },
  {
   "cell_type": "code",
   "execution_count": null,
   "id": "a5e6fe16",
   "metadata": {},
   "outputs": [],
   "source": [
    "import pandas as pd\n",
    "import numpy as np\n",
    "\n",
    "from IPython.display import display\n",
    "\n",
    "import matplotlib.pyplot as plt\n",
    "\n",
    "from sklearn.metrics import mean_squared_error\n",
    "import statsmodels.tsa.arima_model as ARIMA\n",
    "\n",
    "from category_encoders import TargetEncoder\n",
    "\n",
    "import xgboost as xgb\n",
    "from eccd_datasets import load_m5"
   ]
  },
  {
   "cell_type": "code",
   "execution_count": null,
   "id": "e2643f48",
   "metadata": {},
   "outputs": [],
   "source": [
    "datasets = load_m5()\n",
    "df_calendar = datasets[\"calendar\"]\n",
    "df_sales = datasets[\"sales\"]\n",
    "df_prices = datasets[\"sell_prices\"]"
   ]
  },
  {
   "cell_type": "code",
   "execution_count": null,
   "id": "98ef4e06",
   "metadata": {},
   "outputs": [],
   "source": [
    "def get_data_from_id(id_: str, sales: pd.DataFrame, prices: pd.DataFrame, calendar: pd.DataFrame) -> pd.DataFrame:\n",
    "    \"\"\"\n",
    "    Extracts the dataframe associated with a single item id in long format.\n",
    "    \"\"\"\n",
    "    \n",
    "    df = sales[sales[\"id\"] == id_].drop(columns=[\"id\"])\n",
    "    \n",
    "    df = pd.melt(\n",
    "        df, \n",
    "        id_vars=[\n",
    "            \"item_id\", \"dept_id\", \"cat_id\", \"store_id\", \"state_id\"],\n",
    "        var_name = \"d\",\n",
    "        value_name = \"units_sold\"\n",
    "        \n",
    "    )\n",
    "    \n",
    "    df = df.merge(calendar, on=\"d\", how=\"left\")\n",
    "    \n",
    "    df = df.merge(prices, on=[\"item_id\", \"store_id\", \"wm_yr_wk\"], how=\"left\")\n",
    "    \n",
    "    df[\"date\"] = pd.to_datetime(df[\"date\"])\n",
    "    \n",
    "    return df\n",
    "    "
   ]
  },
  {
   "cell_type": "code",
   "execution_count": null,
   "id": "34b809ae",
   "metadata": {},
   "outputs": [],
   "source": [
    "ID = \"HOBBIES_1_001_CA_1_validation\"\n",
    "df_id = get_data_from_id(ID, df_sales, df_prices, df_calendar)\n",
    "df_id.head()"
   ]
  },
  {
   "cell_type": "markdown",
   "id": "d98c34ed",
   "metadata": {},
   "source": [
    "# Price variations\n",
    "\n",
    "To be able to derive a demand curve, we need a model that depends on prices. \n",
    "\n",
    "This implies that we should have several price chances in a product if we want to have any chance of learning a good model."
   ]
  },
  {
   "cell_type": "code",
   "execution_count": null,
   "id": "742d32ae",
   "metadata": {},
   "outputs": [],
   "source": [
    "def get_id_with_most_price_changes(sales: pd.DataFrame, prices: pd.DataFrame) -> str:\n",
    "    \"\"\"\n",
    "    This function returns the ids of all the rows that are tied with the highest\n",
    "    number of price changes.\n",
    "    \"\"\"\n",
    "    \n",
    "    # Write your code here\n",
    "    "
   ]
  },
  {
   "cell_type": "code",
   "execution_count": null,
   "id": "c10d2ecd",
   "metadata": {},
   "outputs": [],
   "source": [
    "answer_number_ids = get_id_with_most_price_changes(df_sales, df_prices)\n",
    "print(answer_number_ids)"
   ]
  },
  {
   "cell_type": "code",
   "execution_count": null,
   "id": "e5b15f5d",
   "metadata": {},
   "outputs": [],
   "source": [
    "dfs = []\n",
    "for id_ in answer_number_ids:\n",
    "    df = get_data_from_id(id_, df_sales, df_prices, df_calendar)\n",
    "    dfs.append(df)\n",
    "    \n",
    "df = pd.concat(dfs)"
   ]
  },
  {
   "cell_type": "code",
   "execution_count": null,
   "id": "2105b153",
   "metadata": {},
   "outputs": [],
   "source": [
    "df = df.drop(columns=[\n",
    "    \"item_id\", \"dept_id\", \"cat_id\", \"state_id\", \"d\", \"wm_yr_wk\",\n",
    "    \"event_name_1\", \"event_type_1\", \"event_name_2\", \"event_type_2\",\n",
    "    \"date\"\n",
    "])"
   ]
  },
  {
   "cell_type": "code",
   "execution_count": null,
   "id": "0f6141d6",
   "metadata": {},
   "outputs": [],
   "source": [
    "y = df.pop(\"units_sold\")\n",
    "X = df.copy()"
   ]
  },
  {
   "cell_type": "code",
   "execution_count": null,
   "id": "c3819629",
   "metadata": {},
   "outputs": [],
   "source": [
    "te = TargetEncoder(cols=[\"store_id\", \"weekday\"])\n",
    "X = te.fit_transform(X, y)"
   ]
  },
  {
   "cell_type": "code",
   "execution_count": null,
   "id": "8de25d5e",
   "metadata": {},
   "outputs": [],
   "source": [
    "model = xgb.XGBRegressor(\n",
    "        objective=\"reg:squarederror\",\n",
    "        n_estimators=10000,\n",
    "        random_state=4,\n",
    "        max_depth=6,\n",
    "        booster=\"gbtree\",\n",
    "        learning_rate=0.01,\n",
    "        subsample=0.7,\n",
    "        gamma=0,\n",
    "        reg_alpha=0,\n",
    "        reg_lambda=1,\n",
    "        importance_type=\"gain\",\n",
    "        colsample_bytree=0.9,\n",
    "        colsample_bynode=0.8,\n",
    "        colsample_bylevel=0.8,\n",
    "        verbosity=1,\n",
    "        n_jobs=1,\n",
    ")\n",
    "\n",
    "model.fit(X, y)"
   ]
  },
  {
   "cell_type": "code",
   "execution_count": null,
   "id": "29b888db",
   "metadata": {},
   "outputs": [],
   "source": [
    "def generate_demand_curve(min_price: float, max_price: float, n_points: int, df: pd.DataFrame):\n",
    "    \"\"\"\n",
    "    This function duplicates a row in the original dataset, but changes the price\n",
    "    to generate new predictions\n",
    "    \"\"\"\n",
    "    \n",
    "    prices = np.linspace(min_price, max_price, n_points)\n",
    "    \n",
    "    sample_row = df.iloc[-1, :]\n",
    "    \n",
    "    data = []\n",
    "    for p in prices:\n",
    "        row = sample_row.copy()\n",
    "        row[\"sell_price\"] = p\n",
    "        data.append(row)\n",
    "        \n",
    "    new_df = pd.concat(data, axis=1)\n",
    "    return new_df.T, prices"
   ]
  },
  {
   "cell_type": "code",
   "execution_count": null,
   "id": "49fce221",
   "metadata": {},
   "outputs": [],
   "source": [
    "tmp_df, prices = generate_demand_curve(3, 5, 20, X)"
   ]
  },
  {
   "cell_type": "code",
   "execution_count": null,
   "id": "0c395a91",
   "metadata": {},
   "outputs": [],
   "source": [
    "predicted_units = model.predict(tmp_df)"
   ]
  },
  {
   "cell_type": "markdown",
   "id": "187469bd",
   "metadata": {},
   "source": [
    "# Unintuitive demand curves\n",
    "\n",
    "If we look at the plot, we can see that the demand increases with the price.\n",
    "\n",
    "This goes against our intuitive knowledge of how markets and demand work.\n",
    "\n",
    "We can fix this issue by adding additional biases to the model."
   ]
  },
  {
   "cell_type": "code",
   "execution_count": null,
   "id": "9216f86f",
   "metadata": {},
   "outputs": [],
   "source": [
    "plt.plot(prices, predicted_units)"
   ]
  },
  {
   "cell_type": "code",
   "execution_count": null,
   "id": "e7c6ea93",
   "metadata": {},
   "outputs": [],
   "source": [
    "def build_monotonic_xgb(df: pd.DataFrame) -> xgb.XGBRegressor:\n",
    "    \"\"\"\n",
    "    Implement a function that builds an XGBoost model with the property that\n",
    "    for any two rows `r1` and `r2` if `r1[\"sel_price\"] > r2[\"sell_price\"]` then\n",
    "    it holds that the predicted sold units for `r1` are smaller or equal than the\n",
    "    predicted sold units for `r2`.\n",
    "    \"\"\"\n",
    "    \n",
    "    # Write your code here\n",
    "    \n",
    "    model = xgb.XGBRegressor(\n",
    "        objective=\"reg:squarederror\",\n",
    "        n_estimators=10000,\n",
    "        random_state=4,\n",
    "        max_depth=6,\n",
    "        booster=\"gbtree\",\n",
    "        learning_rate=0.01,\n",
    "        subsample=0.7,\n",
    "        gamma=0,\n",
    "        reg_alpha=0,\n",
    "        reg_lambda=1,\n",
    "        importance_type=\"gain\",\n",
    "        colsample_bytree=0.9,\n",
    "        colsample_bynode=0.8,\n",
    "        colsample_bylevel=0.8,\n",
    "        verbosity=1,\n",
    "        n_jobs=1,\n",
    "        monotone_constraints = tuple(monotone_constraints)\n",
    "    )\n",
    "\n",
    "    \n",
    "\n",
    "    return model"
   ]
  },
  {
   "cell_type": "code",
   "execution_count": null,
   "id": "55f0134c",
   "metadata": {},
   "outputs": [],
   "source": [
    "monotonic_model = build_monotonic_xgb(X)\n",
    "monotonic_model.fit(X, y)\n",
    "y_pred = monotonic_model.predict(tmp_df)"
   ]
  },
  {
   "cell_type": "code",
   "execution_count": null,
   "id": "53d23465",
   "metadata": {},
   "outputs": [],
   "source": [
    "y_pred"
   ]
  },
  {
   "cell_type": "code",
   "execution_count": null,
   "id": "4dddc656",
   "metadata": {},
   "outputs": [],
   "source": [
    "answer_negative_diffs = np.diff(y_pred) <= 0\n",
    "print(answer_negative_diffs)"
   ]
  },
  {
   "cell_type": "markdown",
   "id": "5fa6ddbc",
   "metadata": {},
   "source": [
    "We managed to get a monotinic model that is consistent with our expectations of reality. \n",
    "\n",
    "Still, there are problems with this basic model. For instance, it returns negative demand units, which is not possible.\n",
    "\n",
    "In further iteration, we should constraint the model to only return non-negative results."
   ]
  },
  {
   "cell_type": "code",
   "execution_count": null,
   "id": "d4d6f03a",
   "metadata": {},
   "outputs": [],
   "source": [
    "fig, ax = plt.subplots()\n",
    "\n",
    "ax.plot(prices, y_pred)\n",
    "ax.axhline(y=0, c=\"r\")"
   ]
  },
  {
   "cell_type": "code",
   "execution_count": null,
   "id": "81149242",
   "metadata": {},
   "outputs": [],
   "source": [
    "\n",
    "proposed_solution = {\n",
    "'attempt': {\n",
    "    'course_name': COURSE_NAME,\n",
    "    'exercise_name': EXERCISE_NAME,\n",
    "    'username': STUDENT_NAME,\n",
    "},\n",
    "'task_attempts': [\n",
    "\t{\n",
    "\t\t\"name\": \"strictly-negative\",\n",
    "\t\t\"answer\": str(answer_negative_diffs),\n",
    "\t},\n",
    "\t{\n",
    "\t\t\"name\": \"maximum-price-changes\",\n",
    "\t\t\"answer\": str(answer_number_ids),\n",
    "\t},\n",
    "]\n",
    "\n",
    "}\n",
    "check_solution(proposed_solution)\n",
    "    "
   ]
  }
 ],
 "metadata": {},
 "nbformat": 4,
 "nbformat_minor": 5
}
