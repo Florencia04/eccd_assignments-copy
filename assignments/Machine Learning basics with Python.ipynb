{
 "cells": [
  {
   "cell_type": "markdown",
   "id": "3b363f77",
   "metadata": {},
   "source": [
    "<a href=\"https://colab.research.google.com/github/danski3456/coding_exercises/blob/main/Machine%20Learning%20basics%20with%20Python.ipynb\" target=\"_parent\"><img src=\"https://colab.research.google.com/assets/colab-badge.svg\" alt=\"Open In Colab\"/></a>"
   ]
  },
  {
   "cell_type": "code",
   "execution_count": null,
   "id": "151d5314",
   "metadata": {},
   "outputs": [],
   "source": [
    "!wget -nv https://raw.githubusercontent.com/danski3456/notebook_grading/main/utils.py -O utils.py\n",
    "%run utils.py\n",
    "\n",
    "!pip install eccd_datasets > /dev/nul"
   ]
  },
  {
   "cell_type": "markdown",
   "id": "dfad6b29",
   "metadata": {},
   "source": [
    "# Objective\n",
    "\n",
    "The objective of this notebook is to familiarize yourself with the most popular tools used for Machine Learning in Python:\n",
    "\n",
    "* Numpy\n",
    "* Pandas\n",
    "* Sklearn"
   ]
  },
  {
   "cell_type": "code",
   "execution_count": null,
   "id": "8117af7f",
   "metadata": {},
   "outputs": [],
   "source": [
    "STUDENT_NAME = \"Nombre Apellido\"\n",
    "COURSE_NAME = \"eccd-feb22\"\n",
    "EXERCISE_NAME = \"machine-learning-basics\""
   ]
  },
  {
   "cell_type": "code",
   "execution_count": null,
   "id": "bd56a983",
   "metadata": {},
   "outputs": [],
   "source": [
    "import numpy as np\n",
    "import pandas as pd\n",
    "\n",
    "from collections import Counter\n",
    "\n",
    "from sklearn.datasets import load_iris\n",
    "from sklearn.model_selection import train_test_split\n",
    "from sklearn.pipeline import Pipeline\n",
    "from sklearn.preprocessing import StandardScaler\n",
    "from sklearn.svm import SVC\n",
    "from sklearn.metrics import accuracy_score"
   ]
  },
  {
   "cell_type": "code",
   "execution_count": null,
   "id": "301343b7",
   "metadata": {},
   "outputs": [],
   "source": [
    "SEED = 2021 # Seeds are used to guarantee reproducibility. Make sure to use this seed ALWAYS!"
   ]
  },
  {
   "cell_type": "markdown",
   "id": "565ae457",
   "metadata": {},
   "source": [
    "## Exploring the IRIS dataset"
   ]
  },
  {
   "cell_type": "code",
   "execution_count": null,
   "id": "8fa23185",
   "metadata": {},
   "outputs": [],
   "source": [
    "iris_dataset = load_iris() # This returns a dictionary with the attributes of the dataset, let's build it."
   ]
  },
  {
   "cell_type": "code",
   "execution_count": null,
   "id": "746f1b5b",
   "metadata": {},
   "outputs": [],
   "source": [
    "iris_dataset.keys()"
   ]
  },
  {
   "cell_type": "code",
   "execution_count": null,
   "id": "3f528d85",
   "metadata": {},
   "outputs": [],
   "source": [
    "iris_dataset[\"data\"]"
   ]
  },
  {
   "cell_type": "code",
   "execution_count": null,
   "id": "3eb7b9f2",
   "metadata": {},
   "outputs": [],
   "source": [
    "iris_dataset[\"target\"]"
   ]
  },
  {
   "cell_type": "code",
   "execution_count": null,
   "id": "a9457e6c",
   "metadata": {},
   "outputs": [],
   "source": [
    "print(iris_dataset[\"frame\"])"
   ]
  },
  {
   "cell_type": "code",
   "execution_count": null,
   "id": "3b91ce75",
   "metadata": {},
   "outputs": [],
   "source": [
    "iris_dataset[\"target_names\"]"
   ]
  },
  {
   "cell_type": "code",
   "execution_count": null,
   "id": "42228ab3",
   "metadata": {},
   "outputs": [],
   "source": [
    "print(iris_dataset[\"DESCR\"])"
   ]
  },
  {
   "cell_type": "code",
   "execution_count": null,
   "id": "ea6ad8a9",
   "metadata": {},
   "outputs": [],
   "source": [
    "iris_dataset[\"feature_names\"]"
   ]
  },
  {
   "cell_type": "code",
   "execution_count": null,
   "id": "8bfb6c73",
   "metadata": {},
   "outputs": [],
   "source": [
    "iris_dataset[\"filename\"]"
   ]
  },
  {
   "cell_type": "code",
   "execution_count": null,
   "id": "9d429d3b",
   "metadata": {},
   "outputs": [],
   "source": [
    "def build_dataframe(dataset: dict) -> pd.DataFrame:\n",
    "    \"\"\"\n",
    "    This function takes as input a dictionary such as\n",
    "    iris_dataset and returns a pandas dataframe\n",
    "    with each column having the proper feature name.\n",
    "    The target value is also a column of this dataframe\n",
    "    with name `target`. It should contain the names of the target\n",
    "    `setosa`, etc. and not simply the encoded numbers.\n",
    "    \"\"\"\n",
    "    \n",
    "    # Write your code here\n"
   ]
  },
  {
   "cell_type": "code",
   "execution_count": null,
   "id": "562cdd66",
   "metadata": {},
   "outputs": [],
   "source": [
    "df = build_dataframe(iris_dataset)\n",
    "assert df.shape == (150, 5)\n",
    "answer_columns =  sorted(df.columns)\n",
    "answer_unique_targets = sorted(df[\"target\"].unique())\n",
    "\n",
    "print(\"Columns\", answer_columns)\n",
    "print(\"Targets\", answer_unique_targets)"
   ]
  },
  {
   "cell_type": "markdown",
   "id": "4e1d9d81",
   "metadata": {},
   "source": [
    "## Preparing the dataset for training\n",
    "\n",
    "Now that we have our dataset (df) ready, we can proceed to prepare it for Machine Learing.\n",
    "For this we will: \n",
    "\n",
    "* Split it into two sets: training and testing.\n",
    "* Create a pipeline to normalize our dataset and use SVM for clasification."
   ]
  },
  {
   "cell_type": "code",
   "execution_count": null,
   "id": "397f4fcd",
   "metadata": {},
   "outputs": [],
   "source": [
    "y = df.pop(\"target\")\n",
    "X = df.copy()"
   ]
  },
  {
   "cell_type": "markdown",
   "id": "423f0116",
   "metadata": {},
   "source": [
    "### Splitting the dataset into train and test"
   ]
  },
  {
   "cell_type": "code",
   "execution_count": null,
   "id": "7a7bf823",
   "metadata": {},
   "outputs": [],
   "source": [
    "\"\"\" \n",
    "Split the dataset into train and test using the method `train_test_split` (remember the seed!)\n",
    "Make sure that the test dataset represents 20% of the total rows (look at parameter `test_size`)\n",
    "\"\"\"\n",
    "    # Write your code here\n"
   ]
  },
  {
   "cell_type": "code",
   "execution_count": null,
   "id": "7d6b8b4a",
   "metadata": {},
   "outputs": [],
   "source": [
    "assert X_train.shape == (120, 4)\n",
    "assert X_test.shape == (30, 4)\n",
    "assert y_train.shape == (120,)\n",
    "assert y_test.shape == (30,)\n",
    "\n",
    "answer_y_test = sorted(y_test.index)\n",
    "print(\"y_test index\", answer_y_test)"
   ]
  },
  {
   "cell_type": "markdown",
   "id": "fbc07bec",
   "metadata": {},
   "source": [
    "### Generate Sklearn Pipeline\n",
    "\n",
    "Before proceeding you should take a closer look at [Sklearn pipelines](https://scikit-learn.org/stable/modules/generated/sklearn.pipeline.Pipeline.html)\n",
    "\n",
    "Let's create a pipeline where the first step is a Standard Scaler and the second step is an SVM classifier"
   ]
  },
  {
   "cell_type": "code",
   "execution_count": null,
   "id": "1c7dcdfd",
   "metadata": {},
   "outputs": [],
   "source": [
    "\"\"\" \n",
    "Crete a pipeline where the first step is a `StandardScaler` (use the name 'scaler') and the second one \n",
    "an SVM classifier `SVC` (use the name 'model' and remember the SEED!)\n",
    "\"\"\"\n",
    "\n",
    "    # Write your code here\n"
   ]
  },
  {
   "cell_type": "code",
   "execution_count": null,
   "id": "35c48090",
   "metadata": {},
   "outputs": [],
   "source": [
    "assert pipe.steps[0][0] == \"scaler\"\n",
    "assert pipe.steps[1][0] == \"model\"\n",
    "\n",
    "assert isinstance(pipe.steps[0][1], StandardScaler)\n",
    "assert isinstance(pipe.steps[1][1], SVC)"
   ]
  },
  {
   "cell_type": "markdown",
   "id": "c6106971",
   "metadata": {},
   "source": [
    "# Training the model\n",
    "\n",
    "Now it is time to train the model!"
   ]
  },
  {
   "cell_type": "code",
   "execution_count": null,
   "id": "52a236bd",
   "metadata": {},
   "outputs": [],
   "source": [
    "\"\"\"\n",
    "Finally, we are ready to train the model. Use the training dataset\n",
    "to train the model and predict the test dataset using the pipeline.\n",
    "The predictions for the test dataset should be stored in the variable `y_pred`\n",
    "Also, calcualte the accuracy of the model in both: train and test and save them\n",
    "as `acc_train` and `acc_test`.\n",
    "\"\"\"\n",
    "    # Write your code here\n"
   ]
  },
  {
   "cell_type": "code",
   "execution_count": null,
   "id": "e787454b",
   "metadata": {},
   "outputs": [],
   "source": [
    "assert np.allclose(acc_train, 0.9833333333333333)\n",
    "assert np.allclose(acc_test, 0.9666666666666667)\n",
    "answer_predictions = Counter(y_pred)\n",
    "\n",
    "print(\"Predition count\", answer_predictions)"
   ]
  },
  {
   "cell_type": "code",
   "execution_count": null,
   "id": "fe03c880",
   "metadata": {},
   "outputs": [],
   "source": [
    "print(str(answer_columns))\n",
    "print(str(answer_predictions))\n",
    "print(str(answer_y_test))\n",
    "print(str(answer_unique_targets))"
   ]
  },
  {
   "cell_type": "code",
   "execution_count": null,
   "id": "8159ad07",
   "metadata": {},
   "outputs": [],
   "source": [
    ""
   ]
  },
  {
   "cell_type": "code",
   "execution_count": null,
   "id": "1e1e5eb1",
   "metadata": {},
   "outputs": [],
   "source": [
    "\n",
    "proposed_solution = {\n",
    "'attempt': {\n",
    "    'course_name': COURSE_NAME,\n",
    "    'exercise_name': EXERCISE_NAME,\n",
    "    'username': STUDENT_NAME,\n",
    "},\n",
    "'task_attempts': [\n",
    "\t{\n",
    "        \"name\": \"dataframe columns\",\n",
    "\t    \"answer\": str(answer_columns),\n",
    "\t\t\n",
    "\t},\n",
    "    {\n",
    "\t\t\"answer\": str(answer_unique_targets),\n",
    "\t\t\"name\": \"dataframe targets\",\n",
    "\t},\n",
    "    {\n",
    "\t\t\"answer\": str(answer_y_test),\n",
    "\t\t\"name\": \"test target indices\",\n",
    "\t},\n",
    "    {\n",
    "\t\t\"answer\": str(answer_predictions),\n",
    "\t\t\"name\": \"predictions count\",\n",
    "\t},\n",
    "]\n",
    "\n",
    "}\n",
    "check_solution(proposed_solution)\n",
    "    "
   ]
  }
 ],
 "metadata": {},
 "nbformat": 4,
 "nbformat_minor": 5
}
