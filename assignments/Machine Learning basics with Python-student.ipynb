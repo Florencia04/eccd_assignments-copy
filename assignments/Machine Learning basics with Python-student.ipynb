{
 "cells": [
  {
   "cell_type": "code",
   "execution_count": null,
   "id": "55c3e316",
   "metadata": {},
   "outputs": [],
   "source": [
    "!pip install -q pygradus"
   ]
  },
  {
   "cell_type": "markdown",
   "id": "1afd223d",
   "metadata": {},
   "source": [
    "# Objective\n",
    "\n",
    "The objective of this notebook is to familiarize yourself with the most popular tools used for Machine Learning in Python:\n",
    "\n",
    "* Numpy\n",
    "* Pandas\n",
    "* Sklearn"
   ]
  },
  {
   "cell_type": "code",
   "execution_count": null,
   "id": "aaad2c38",
   "metadata": {},
   "outputs": [],
   "source": [
    "STUDENT_NAME = \"Nombre Apellido\"\n",
    "COURSE_NAME = \"eccd-oct22\"\n",
    "EXERCISE_NAME = \"machine-learning-basics\""
   ]
  },
  {
   "cell_type": "code",
   "execution_count": null,
   "id": "8bcd99a9",
   "metadata": {},
   "outputs": [],
   "source": [
    "import numpy as np\n",
    "import pandas as pd\n",
    "\n",
    "from collections import Counter\n",
    "\n",
    "from sklearn.datasets import load_iris\n",
    "from sklearn.model_selection import train_test_split\n",
    "from sklearn.pipeline import Pipeline\n",
    "from sklearn.preprocessing import StandardScaler\n",
    "from sklearn.svm import SVC\n",
    "from sklearn.metrics import accuracy_score\n",
    "\n",
    "from pygradus import create_exercise, check_solution"
   ]
  },
  {
   "cell_type": "code",
   "execution_count": null,
   "id": "77a266b7",
   "metadata": {},
   "outputs": [],
   "source": [
    "SEED = 2021 # Seeds are used to guarantee reproducibility. Make sure to use this seed ALWAYS!"
   ]
  },
  {
   "cell_type": "markdown",
   "id": "120d1b03",
   "metadata": {},
   "source": [
    "## Exploring the IRIS dataset"
   ]
  },
  {
   "cell_type": "code",
   "execution_count": null,
   "id": "1161c73e",
   "metadata": {},
   "outputs": [],
   "source": [
    "iris_dataset = load_iris() # This returns a dictionary with the attributes of the dataset, let's build it."
   ]
  },
  {
   "cell_type": "code",
   "execution_count": null,
   "id": "bf6b88ce",
   "metadata": {},
   "outputs": [],
   "source": [
    "iris_dataset.keys()"
   ]
  },
  {
   "cell_type": "code",
   "execution_count": null,
   "id": "64e8dc25",
   "metadata": {},
   "outputs": [],
   "source": [
    "iris_dataset[\"data\"]"
   ]
  },
  {
   "cell_type": "code",
   "execution_count": null,
   "id": "c93a0535",
   "metadata": {},
   "outputs": [],
   "source": [
    "iris_dataset[\"target\"]"
   ]
  },
  {
   "cell_type": "code",
   "execution_count": null,
   "id": "a37a73eb",
   "metadata": {},
   "outputs": [],
   "source": [
    "print(iris_dataset[\"frame\"])"
   ]
  },
  {
   "cell_type": "code",
   "execution_count": null,
   "id": "ce6618f1",
   "metadata": {},
   "outputs": [],
   "source": [
    "iris_dataset[\"target_names\"]"
   ]
  },
  {
   "cell_type": "code",
   "execution_count": null,
   "id": "7bab601e",
   "metadata": {},
   "outputs": [],
   "source": [
    "print(iris_dataset[\"DESCR\"])"
   ]
  },
  {
   "cell_type": "code",
   "execution_count": null,
   "id": "e5184f2a",
   "metadata": {},
   "outputs": [],
   "source": [
    "iris_dataset[\"feature_names\"]"
   ]
  },
  {
   "cell_type": "code",
   "execution_count": null,
   "id": "c58179d6",
   "metadata": {},
   "outputs": [],
   "source": [
    "iris_dataset[\"filename\"]"
   ]
  },
  {
   "cell_type": "code",
   "execution_count": null,
   "id": "64863fbf",
   "metadata": {},
   "outputs": [],
   "source": [
    "def build_dataframe(dataset: dict) -> pd.DataFrame:\n",
    "    \"\"\"\n",
    "    This function takes as input a dictionary such as\n",
    "    iris_dataset and returns a pandas dataframe\n",
    "    with each column having the proper feature name.\n",
    "    The target value is also a column of this dataframe\n",
    "    with name `target`. It should contain the names of the target\n",
    "    `setosa`, etc. and not simply the encoded numbers.\n",
    "    \"\"\"\n",
    "    \n",
    "    # Write your code here\n"
   ]
  },
  {
   "cell_type": "code",
   "execution_count": null,
   "id": "5413f598",
   "metadata": {},
   "outputs": [],
   "source": [
    "df = build_dataframe(iris_dataset)\n",
    "assert df.shape == (150, 5)\n",
    "answer_columns =  sorted(df.columns)\n",
    "answer_unique_targets = sorted(df[\"target\"].unique())\n",
    "\n",
    "print(\"Columns\", answer_columns)\n",
    "print(\"Targets\", answer_unique_targets)"
   ]
  },
  {
   "cell_type": "markdown",
   "id": "161713cf",
   "metadata": {},
   "source": [
    "## Preparing the dataset for training\n",
    "\n",
    "Now that we have our dataset (df) ready, we can proceed to prepare it for Machine Learing.\n",
    "For this we will: \n",
    "\n",
    "* Split it into two sets: training and testing.\n",
    "* Create a pipeline to normalize our dataset and use SVM for clasification."
   ]
  },
  {
   "cell_type": "code",
   "execution_count": null,
   "id": "744138f1",
   "metadata": {},
   "outputs": [],
   "source": [
    "y = df.pop(\"target\")\n",
    "X = df.copy()"
   ]
  },
  {
   "cell_type": "markdown",
   "id": "4b5772b8",
   "metadata": {},
   "source": [
    "### Splitting the dataset into train and test"
   ]
  },
  {
   "cell_type": "code",
   "execution_count": null,
   "id": "65d491e6",
   "metadata": {},
   "outputs": [],
   "source": [
    "\"\"\" \n",
    "Split the dataset into train and test using the method `train_test_split` (remember the seed!)\n",
    "Make sure that the test dataset represents 20% of the total rows (look at parameter `test_size`)\n",
    "\"\"\"\n",
    "    # Write your code here\n"
   ]
  },
  {
   "cell_type": "code",
   "execution_count": null,
   "id": "e0fad529",
   "metadata": {},
   "outputs": [],
   "source": [
    "assert X_train.shape == (120, 4)\n",
    "assert X_test.shape == (30, 4)\n",
    "assert y_train.shape == (120,)\n",
    "assert y_test.shape == (30,)\n",
    "\n",
    "answer_y_test = sorted(y_test.index)\n",
    "print(\"y_test index\", answer_y_test)"
   ]
  },
  {
   "cell_type": "markdown",
   "id": "d6d90646",
   "metadata": {},
   "source": [
    "### Generate Sklearn Pipeline\n",
    "\n",
    "Before proceeding you should take a closer look at [Sklearn pipelines](https://scikit-learn.org/stable/modules/generated/sklearn.pipeline.Pipeline.html)\n",
    "\n",
    "Let's create a pipeline where the first step is a Standard Scaler and the second step is an SVM classifier"
   ]
  },
  {
   "cell_type": "code",
   "execution_count": null,
   "id": "c5ac4480",
   "metadata": {},
   "outputs": [],
   "source": [
    "\"\"\" \n",
    "Crete a pipeline where the first step is a `StandardScaler` (use the name 'scaler') and the second one \n",
    "an SVM classifier `SVC` (use the name 'model' and remember the SEED!)\n",
    "\"\"\"\n",
    "\n",
    "    # Write your code here\n"
   ]
  },
  {
   "cell_type": "code",
   "execution_count": null,
   "id": "ad581051",
   "metadata": {},
   "outputs": [],
   "source": [
    "assert pipe.steps[0][0] == \"scaler\"\n",
    "assert pipe.steps[1][0] == \"model\"\n",
    "\n",
    "assert isinstance(pipe.steps[0][1], StandardScaler)\n",
    "assert isinstance(pipe.steps[1][1], SVC)"
   ]
  },
  {
   "cell_type": "markdown",
   "id": "cde1c7be",
   "metadata": {},
   "source": [
    "# Training the model\n",
    "\n",
    "Now it is time to train the model!"
   ]
  },
  {
   "cell_type": "code",
   "execution_count": null,
   "id": "f13eff23",
   "metadata": {},
   "outputs": [],
   "source": [
    "\"\"\"\n",
    "Finally, we are ready to train the model. Use the training dataset\n",
    "to train the model and predict the test dataset using the pipeline.\n",
    "The predictions for the test dataset should be stored in the variable `y_pred`\n",
    "Also, calcualte the accuracy of the model in both: train and test and save them\n",
    "as `acc_train` and `acc_test`.\n",
    "\"\"\"\n",
    "    # Write your code here\n"
   ]
  },
  {
   "cell_type": "code",
   "execution_count": null,
   "id": "3ac311d5",
   "metadata": {},
   "outputs": [],
   "source": [
    "assert np.allclose(acc_train, 0.9833333333333333)\n",
    "assert np.allclose(acc_test, 0.9666666666666667)\n",
    "answer_predictions = Counter(y_pred)\n",
    "\n",
    "print(\"Predition count\", answer_predictions)"
   ]
  },
  {
   "cell_type": "code",
   "execution_count": null,
   "id": "3eb90106",
   "metadata": {},
   "outputs": [],
   "source": [
    "print(str(answer_columns))\n",
    "print(str(answer_predictions))\n",
    "print(str(answer_y_test))\n",
    "print(str(answer_unique_targets))"
   ]
  },
  {
   "cell_type": "code",
   "execution_count": null,
   "id": "040a52d2",
   "metadata": {},
   "outputs": [],
   "source": []
  },
  {
   "cell_type": "code",
   "execution_count": null,
   "id": "955b1f77",
   "metadata": {},
   "outputs": [],
   "source": [
    "\n",
    "proposed_solution = {\n",
    "'attempt': {\n",
    "    'course_name': COURSE_NAME,\n",
    "    'exercise_name': EXERCISE_NAME,\n",
    "    'username': STUDENT_NAME,\n",
    "},\n",
    "'task_attempts': [\n",
    "\t{\n",
    "        \"name\": \"dataframe columns\",\n",
    "\t    \"answer\": str(answer_columns),\n",
    "\t\t\n",
    "\t},\n",
    "    {\n",
    "\t\t\"answer\": str(answer_unique_targets),\n",
    "\t\t\"name\": \"dataframe targets\",\n",
    "\t},\n",
    "    {\n",
    "\t\t\"answer\": str(answer_y_test),\n",
    "\t\t\"name\": \"test target indices\",\n",
    "\t},\n",
    "    {\n",
    "\t\t\"answer\": str(answer_predictions),\n",
    "\t\t\"name\": \"predictions count\",\n",
    "\t},\n",
    "]\n",
    "\n",
    "}\n",
    "check_solution(proposed_solution)\n",
    "    "
   ]
  }
 ],
 "metadata": {},
 "nbformat": 4,
 "nbformat_minor": 5
}
