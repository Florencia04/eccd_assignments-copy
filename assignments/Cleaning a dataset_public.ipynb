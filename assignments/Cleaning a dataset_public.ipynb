{
 "cells": [
  {
   "cell_type": "markdown",
   "id": "8676d2ab",
   "metadata": {},
   "source": [
    "<a href=\"https://colab.research.google.com/github/danski3456/coding_exercises/blob/main/Cleaning%20a%20dataset.ipynb\" target=\"_parent\"><img src=\"https://colab.research.google.com/assets/colab-badge.svg\" alt=\"Open In Colab\"/></a>"
   ]
  },
  {
   "cell_type": "markdown",
   "id": "8f84d47c",
   "metadata": {},
   "source": [
    "# Objective\n",
    "\n",
    "The objective of this notebook is get hands-on experience on cleaning a \"dirty\" dataset.\n",
    "Often, datasets are created from \"free-text\" fields. In free-text fields, data validation is not enforced and as a result, many conventions co-exist within the same column of data.\n",
    "Dirty data can also ocurr when collection information from different sources. If these sources use different conventions to represent such data, additional efforts are required to homogenize it at a later stage."
   ]
  },
  {
   "cell_type": "markdown",
   "id": "1514690e",
   "metadata": {},
   "source": [
    "## Setup"
   ]
  },
  {
   "cell_type": "code",
   "execution_count": null,
   "id": "22af5612",
   "metadata": {},
   "outputs": [],
   "source": [
    "!wget -nv https://raw.githubusercontent.com/danski3456/notebook_grading/main/utils.py -O utils.py\n",
    "%run utils.py\n",
    "\n",
    "!pip install eccd_datasets > /dev/null"
   ]
  },
  {
   "cell_type": "code",
   "execution_count": null,
   "id": "34017587",
   "metadata": {},
   "outputs": [],
   "source": [
    "STUDENT_NAME = \"Nombre Apellido\"\n",
    "COURSE_NAME = \"eccd-feb22\"\n",
    "EXERCISE_NAME = \"cleaning-a-dataset\""
   ]
  },
  {
   "cell_type": "code",
   "execution_count": null,
   "id": "d096e745",
   "metadata": {},
   "outputs": [],
   "source": [
    "import pandas as pd\n",
    "import numpy as np\n",
    "from eccd_datasets import load_lingerie"
   ]
  },
  {
   "cell_type": "code",
   "execution_count": null,
   "id": "528828bd",
   "metadata": {},
   "outputs": [],
   "source": [
    "datasets = load_lingerie()"
   ]
  },
  {
   "cell_type": "code",
   "execution_count": null,
   "id": "a0883157",
   "metadata": {},
   "outputs": [],
   "source": [
    "datasets.keys()"
   ]
  },
  {
   "cell_type": "markdown",
   "id": "cd4b9d55",
   "metadata": {},
   "source": [
    "## The different datasets on their own"
   ]
  },
  {
   "cell_type": "code",
   "execution_count": null,
   "id": "2dd9bed1",
   "metadata": {},
   "outputs": [],
   "source": [
    "datasets[\"ae_com\"].head()"
   ]
  },
  {
   "cell_type": "code",
   "execution_count": null,
   "id": "65ab3b78",
   "metadata": {},
   "outputs": [],
   "source": [
    "datasets[\"amazon_com\"].head()"
   ]
  },
  {
   "cell_type": "markdown",
   "id": "60815a09",
   "metadata": {},
   "source": [
    "### Joining all the datasets into one"
   ]
  },
  {
   "cell_type": "code",
   "execution_count": null,
   "id": "7502a1d3",
   "metadata": {},
   "outputs": [],
   "source": [
    "df = pd.concat(datasets.values())"
   ]
  },
  {
   "cell_type": "code",
   "execution_count": null,
   "id": "4d727d9d",
   "metadata": {},
   "outputs": [],
   "source": [
    "df.shape"
   ]
  },
  {
   "cell_type": "markdown",
   "id": "159e8f16",
   "metadata": {},
   "source": [
    "# Calculating statistics on the dataset"
   ]
  },
  {
   "cell_type": "markdown",
   "id": "d3424e17",
   "metadata": {},
   "source": [
    "## Unifying Victoria's Secret"
   ]
  },
  {
   "cell_type": "code",
   "execution_count": null,
   "id": "0a043c15",
   "metadata": {},
   "outputs": [],
   "source": [
    "def unify_victoria_secret(df):\n",
    "    \"\"\"\n",
    "    We want that all brands that are related to Victoria's Secret\n",
    "    have `victoria's secret` as their brand instead of what they\n",
    "    currently have.\n",
    "    \"\"\"\n",
    "    df = df.copy()\n",
    "    new_string = \"victoria's secret\"\n",
    "    # Write your code here\n"
   ]
  },
  {
   "cell_type": "code",
   "execution_count": null,
   "id": "dbcff65d",
   "metadata": {},
   "outputs": [],
   "source": [
    "df_unified = unify_victoria_secret(df)"
   ]
  },
  {
   "cell_type": "code",
   "execution_count": null,
   "id": "a1412fb2",
   "metadata": {},
   "outputs": [],
   "source": [
    "answer_victoria_secret =df_unified[df_unified[\"brand_name\"] == \"victoria's secret\"].shape[0]\n",
    "print(answer_victoria_secret)"
   ]
  },
  {
   "cell_type": "markdown",
   "id": "13975cfb",
   "metadata": {},
   "source": [
    "## Cleaning up the price\n",
    "\n",
    "In this sectino we are going to transform the `price` column into a float column in USD dolars.\n",
    "\n",
    "For this, be careful of the different formats in the data.\n",
    "\n",
    "For simplicity, you might assume that all the prices are in USD dolars, regarding of the symbol of the currency used."
   ]
  },
  {
   "cell_type": "code",
   "execution_count": null,
   "id": "3b413a71",
   "metadata": {},
   "outputs": [],
   "source": [
    "def clean_price(df):\n",
    "    \"\"\"\n",
    "    In this function we will transform the\n",
    "    `price` column into a column of floats.\n",
    "    In case a product has more than one price,\n",
    "    return the lowest one.\n",
    "    \"\"\"\n",
    "    \n",
    "    # Write your code here\n"
   ]
  },
  {
   "cell_type": "code",
   "execution_count": null,
   "id": "453462c3",
   "metadata": {},
   "outputs": [],
   "source": [
    "df_clean = clean_price(df_unified)"
   ]
  },
  {
   "cell_type": "code",
   "execution_count": null,
   "id": "330e3315",
   "metadata": {},
   "outputs": [],
   "source": [
    "answer_unified_price_sum = df_clean[\"price\"].sum()\n",
    "print(answer_unified_price_sum)"
   ]
  },
  {
   "cell_type": "code",
   "execution_count": null,
   "id": "2df11d4d",
   "metadata": {},
   "outputs": [],
   "source": [
    "def low_high_product_mean(df):\n",
    "    \"\"\"\n",
    "    Finally, we will calculate `product_category` with the lowest and highest mean price\n",
    "    for the brand Victoria's Secret.\n",
    "    \"\"\"\n",
    "\n",
    "    # Write your code here\n"
   ]
  },
  {
   "cell_type": "code",
   "execution_count": null,
   "id": "e73e2798",
   "metadata": {},
   "outputs": [],
   "source": [
    "lowest_mean, highest_mean = low_high_product_mean(df_clean)\n",
    "assert np.allclose(lowest_mean, 3.6203030303030)\n",
    "print(\"highest_mean\", highest_mean)"
   ]
  },
  {
   "cell_type": "code",
   "execution_count": null,
   "id": "25d8ec74",
   "metadata": {},
   "outputs": [],
   "source": [
    "\n",
    "\n",
    "proposed_solution = {\n",
    "'attempt': {\n",
    "    'course_name': COURSE_NAME,\n",
    "    'exercise_name': EXERCISE_NAME,\n",
    "    'username': STUDENT_NAME,\n",
    "},\n",
    "'task_attempts': [\n",
    "         {\n",
    "            \"name\": \"victoria secret\",\n",
    "            \"answer\": str(answer_victoria_secret),\n",
    "         },\n",
    "         {\n",
    "            \"name\": \"price unification\",\n",
    "            \"answer\": str(answer_unified_price_sum),\n",
    "         },\n",
    "         {\n",
    "            \"name\": \"highest mean\",\n",
    "            \"answer\": str(highest_mean),\n",
    "         },\n",
    "]\n",
    "\n",
    "}\n",
    "check_solution(proposed_solution)\n"
   ]
  }
 ],
 "metadata": {},
 "nbformat": 4,
 "nbformat_minor": 5
}
