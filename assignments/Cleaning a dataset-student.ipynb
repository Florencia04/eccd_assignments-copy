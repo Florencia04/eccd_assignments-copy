{
 "cells": [
  {
   "cell_type": "markdown",
   "id": "b7a2b3c8",
   "metadata": {},
   "source": [
    "# Objective\n",
    "\n",
    "The objective of this notebook is get hands-on experience on cleaning a \"dirty\" dataset.\n",
    "Often, datasets are created from \"free-text\" fields. In free-text fields, data validation is not enforced and as a result, many conventions co-exist within the same column of data.\n",
    "Dirty data can also ocurr when collection information from different sources. If these sources use different conventions to represent such data, additional efforts are required to homogenize it at a later stage."
   ]
  },
  {
   "cell_type": "markdown",
   "id": "8b045263",
   "metadata": {},
   "source": [
    "## Setup"
   ]
  },
  {
   "cell_type": "code",
   "execution_count": null,
   "id": "7fc6ea94",
   "metadata": {},
   "outputs": [],
   "source": [
    "!pip install -q eccd_datasets pygradus"
   ]
  },
  {
   "cell_type": "code",
   "execution_count": null,
   "id": "412db144",
   "metadata": {},
   "outputs": [],
   "source": [
    "STUDENT_NAME = \"Nombre Apellido\"\n",
    "COURSE_NAME = \"eccd-oct22\"\n",
    "EXERCISE_NAME = \"cleaning-a-dataset\""
   ]
  },
  {
   "cell_type": "code",
   "execution_count": null,
   "id": "e7d3d658",
   "metadata": {},
   "outputs": [],
   "source": [
    "import pandas as pd\n",
    "import numpy as np\n",
    "from eccd_datasets import load_lingerie\n",
    "from pygradus import create_exercise, check_solution"
   ]
  },
  {
   "cell_type": "code",
   "execution_count": null,
   "id": "26061fa6",
   "metadata": {},
   "outputs": [],
   "source": [
    "datasets = load_lingerie()"
   ]
  },
  {
   "cell_type": "code",
   "execution_count": null,
   "id": "536a0d8e",
   "metadata": {},
   "outputs": [],
   "source": [
    "datasets.keys()"
   ]
  },
  {
   "cell_type": "markdown",
   "id": "848b7fca",
   "metadata": {},
   "source": [
    "## The different datasets on their own"
   ]
  },
  {
   "cell_type": "code",
   "execution_count": null,
   "id": "6c6d8b27",
   "metadata": {},
   "outputs": [],
   "source": [
    "datasets[\"ae_com\"].head()"
   ]
  },
  {
   "cell_type": "code",
   "execution_count": null,
   "id": "1ebafc0b",
   "metadata": {},
   "outputs": [],
   "source": [
    "datasets[\"amazon_com\"].head()"
   ]
  },
  {
   "cell_type": "markdown",
   "id": "aa1e4f7c",
   "metadata": {},
   "source": [
    "### Joining all the datasets into one"
   ]
  },
  {
   "cell_type": "code",
   "execution_count": null,
   "id": "8623e1e2",
   "metadata": {},
   "outputs": [],
   "source": [
    "df = pd.concat(datasets.values())"
   ]
  },
  {
   "cell_type": "code",
   "execution_count": null,
   "id": "0b586c6d",
   "metadata": {},
   "outputs": [],
   "source": [
    "df.shape"
   ]
  },
  {
   "cell_type": "markdown",
   "id": "6f5b9fdf",
   "metadata": {},
   "source": [
    "# Calculating statistics on the dataset"
   ]
  },
  {
   "cell_type": "markdown",
   "id": "1101da7b",
   "metadata": {},
   "source": [
    "## Unifying Victoria's Secret"
   ]
  },
  {
   "cell_type": "code",
   "execution_count": null,
   "id": "ecc72382",
   "metadata": {},
   "outputs": [],
   "source": [
    "def unify_victoria_secret(df):\n",
    "    \"\"\"\n",
    "    We want that all brands that are related to Victoria's Secret\n",
    "    have `victoria's secret` as their brand instead of what they\n",
    "    currently have.\n",
    "    \"\"\"\n",
    "    df = df.copy()\n",
    "    new_string = \"victoria's secret\"\n",
    "    # Write your code here\n"
   ]
  },
  {
   "cell_type": "code",
   "execution_count": null,
   "id": "d9eb1ef9",
   "metadata": {},
   "outputs": [],
   "source": [
    "df_unified = unify_victoria_secret(df)"
   ]
  },
  {
   "cell_type": "code",
   "execution_count": null,
   "id": "98917a5e",
   "metadata": {},
   "outputs": [],
   "source": [
    "answer_victoria_secret =df_unified[df_unified[\"brand_name\"] == \"victoria's secret\"].shape[0]\n",
    "print(answer_victoria_secret)"
   ]
  },
  {
   "cell_type": "markdown",
   "id": "f3b23ed6",
   "metadata": {},
   "source": [
    "## Cleaning up the price\n",
    "\n",
    "In this sectino we are going to transform the `price` column into a float column in USD dolars.\n",
    "\n",
    "For this, be careful of the different formats in the data.\n",
    "\n",
    "For simplicity, you might assume that all the prices are in USD dolars, regarding of the symbol of the currency used."
   ]
  },
  {
   "cell_type": "code",
   "execution_count": null,
   "id": "81c5fddf",
   "metadata": {},
   "outputs": [],
   "source": [
    "def clean_price(df):\n",
    "    \"\"\"\n",
    "    In this function we will transform the\n",
    "    `price` column into a column of floats.\n",
    "    In case a product has more than one price,\n",
    "    return the lowest one.\n",
    "    \"\"\"\n",
    "    \n",
    "    # Write your code here\n"
   ]
  },
  {
   "cell_type": "code",
   "execution_count": null,
   "id": "2b4502c1",
   "metadata": {},
   "outputs": [],
   "source": [
    "df_clean = clean_price(df_unified)"
   ]
  },
  {
   "cell_type": "code",
   "execution_count": null,
   "id": "9ef9733c",
   "metadata": {},
   "outputs": [],
   "source": [
    "answer_unified_price_sum = df_clean[\"price\"].sum()\n",
    "print(answer_unified_price_sum)"
   ]
  },
  {
   "cell_type": "code",
   "execution_count": null,
   "id": "d8381283",
   "metadata": {},
   "outputs": [],
   "source": [
    "def low_high_product_mean(df):\n",
    "    \"\"\"\n",
    "    Finally, we will calculate `product_category` with the lowest and highest mean price\n",
    "    for the brand Victoria's Secret.\n",
    "    \"\"\"\n",
    "\n",
    "    # Write your code here\n"
   ]
  },
  {
   "cell_type": "code",
   "execution_count": null,
   "id": "32083f50",
   "metadata": {},
   "outputs": [],
   "source": [
    "lowest_mean, highest_mean = low_high_product_mean(df_clean)\n",
    "assert np.allclose(lowest_mean, 3.6203030303030)\n",
    "print(\"highest_mean\", highest_mean)"
   ]
  },
  {
   "cell_type": "code",
   "execution_count": null,
   "id": "3f0593e6",
   "metadata": {},
   "outputs": [],
   "source": []
  },
  {
   "cell_type": "code",
   "execution_count": null,
   "id": "c9e541ea",
   "metadata": {},
   "outputs": [],
   "source": [
    "\n",
    "proposed_solution = {\n",
    "'attempt': {\n",
    "    'course_name': COURSE_NAME,\n",
    "    'exercise_name': EXERCISE_NAME,\n",
    "    'username': STUDENT_NAME,\n",
    "},\n",
    "'task_attempts': [\n",
    "         {\n",
    "            \"name\": \"victoria secret\",\n",
    "            \"answer\": str(answer_victoria_secret),\n",
    "         },\n",
    "         {\n",
    "            \"name\": \"price unification\",\n",
    "            \"answer\": str(answer_unified_price_sum),\n",
    "         },\n",
    "         {\n",
    "            \"name\": \"highest mean\",\n",
    "            \"answer\": str(highest_mean),\n",
    "         },\n",
    "]\n",
    "\n",
    "}\n",
    "check_solution(proposed_solution)\n",
    "    "
   ]
  }
 ],
 "metadata": {},
 "nbformat": 4,
 "nbformat_minor": 5
}
