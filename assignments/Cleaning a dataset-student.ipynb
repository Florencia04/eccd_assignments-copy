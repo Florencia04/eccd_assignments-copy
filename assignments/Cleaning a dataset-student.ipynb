{
 "cells": [
  {
   "cell_type": "markdown",
   "id": "288ba888",
   "metadata": {},
   "source": [
    "# Objective\n",
    "\n",
    "The objective of this notebook is get hands-on experience on cleaning a \"dirty\" dataset.\n",
    "Often, datasets are created from \"free-text\" fields. In free-text fields, data validation is not enforced and as a result, many conventions co-exist within the same column of data.\n",
    "Dirty data can also ocurr when collection information from different sources. If these sources use different conventions to represent such data, additional efforts are required to homogenize it at a later stage."
   ]
  },
  {
   "cell_type": "markdown",
   "id": "d7ccf57b",
   "metadata": {},
   "source": [
    "## Setup"
   ]
  },
  {
   "cell_type": "code",
   "execution_count": null,
   "id": "e74a8477",
   "metadata": {},
   "outputs": [],
   "source": [
    "!pip install -q eccd_datasets pygradus"
   ]
  },
  {
   "cell_type": "code",
   "execution_count": null,
   "id": "4d8ab45d",
   "metadata": {},
   "outputs": [],
   "source": [
    "STUDENT_NAME = \"Nombre Apellido\"\n",
    "COURSE_NAME = \"eccd-oct22\"\n",
    "EXERCISE_NAME = \"cleaning-a-dataset\""
   ]
  },
  {
   "cell_type": "code",
   "execution_count": null,
   "id": "76361fc8",
   "metadata": {},
   "outputs": [],
   "source": [
    "import pandas as pd\n",
    "import numpy as np\n",
    "from eccd_datasets import load_lingerie\n",
    "from pygradus import create_exercise, check_solution"
   ]
  },
  {
   "cell_type": "code",
   "execution_count": null,
   "id": "94a91839",
   "metadata": {},
   "outputs": [],
   "source": [
    "datasets = load_lingerie()"
   ]
  },
  {
   "cell_type": "code",
   "execution_count": null,
   "id": "dc09b1e2",
   "metadata": {},
   "outputs": [],
   "source": [
    "datasets.keys()"
   ]
  },
  {
   "cell_type": "markdown",
   "id": "0f461d36",
   "metadata": {},
   "source": [
    "## The different datasets on their own"
   ]
  },
  {
   "cell_type": "code",
   "execution_count": null,
   "id": "d823112c",
   "metadata": {},
   "outputs": [],
   "source": [
    "datasets[\"ae_com\"].head()"
   ]
  },
  {
   "cell_type": "code",
   "execution_count": null,
   "id": "e767e685",
   "metadata": {},
   "outputs": [],
   "source": [
    "datasets[\"amazon_com\"].head()"
   ]
  },
  {
   "cell_type": "markdown",
   "id": "232239e8",
   "metadata": {},
   "source": [
    "### Joining all the datasets into one"
   ]
  },
  {
   "cell_type": "code",
   "execution_count": null,
   "id": "44a1b93e",
   "metadata": {},
   "outputs": [],
   "source": [
    "df = pd.concat(datasets.values())"
   ]
  },
  {
   "cell_type": "code",
   "execution_count": null,
   "id": "c6d589b6",
   "metadata": {},
   "outputs": [],
   "source": [
    "df.shape"
   ]
  },
  {
   "cell_type": "markdown",
   "id": "3913dde0",
   "metadata": {},
   "source": [
    "# Calculating statistics on the dataset"
   ]
  },
  {
   "cell_type": "markdown",
   "id": "ea072819",
   "metadata": {},
   "source": [
    "## Unifying Victoria's Secret"
   ]
  },
  {
   "cell_type": "code",
   "execution_count": null,
   "id": "6a9c53a4",
   "metadata": {},
   "outputs": [],
   "source": [
    "def unify_victoria_secret(df):\n",
    "    \"\"\"\n",
    "    We want that all brands that are related to Victoria's Secret\n",
    "    have `victoria's secret` as their brand instead of what they\n",
    "    currently have.\n",
    "    \"\"\"\n",
    "    df = df.copy()\n",
    "    new_string = \"victoria's secret\"\n",
    "    # Write your code here\n"
   ]
  },
  {
   "cell_type": "code",
   "execution_count": null,
   "id": "37fa5143",
   "metadata": {},
   "outputs": [],
   "source": [
    "df_unified = unify_victoria_secret(df)"
   ]
  },
  {
   "cell_type": "code",
   "execution_count": null,
   "id": "79cc6d0c",
   "metadata": {},
   "outputs": [],
   "source": [
    "answer_victoria_secret =df_unified[df_unified[\"brand_name\"] == \"victoria's secret\"].shape[0]\n",
    "print(answer_victoria_secret)"
   ]
  },
  {
   "cell_type": "markdown",
   "id": "1e5fb329",
   "metadata": {},
   "source": [
    "## Cleaning up the price\n",
    "\n",
    "In this sectino we are going to transform the `price` column into a float column in USD dolars.\n",
    "\n",
    "For this, be careful of the different formats in the data.\n",
    "\n",
    "For simplicity, you might assume that all the prices are in USD dolars, regarding of the symbol of the currency used."
   ]
  },
  {
   "cell_type": "code",
   "execution_count": null,
   "id": "11eb0f49",
   "metadata": {},
   "outputs": [],
   "source": [
    "def clean_price(df):\n",
    "    \"\"\"\n",
    "    In this function we will transform the\n",
    "    `price` column into a column of floats.\n",
    "    In case a product has more than one price,\n",
    "    return the lowest one.\n",
    "    \"\"\"\n",
    "    \n",
    "    # Write your code here\n"
   ]
  },
  {
   "cell_type": "code",
   "execution_count": null,
   "id": "0b54d1ed",
   "metadata": {},
   "outputs": [],
   "source": [
    "df_clean = clean_price(df_unified)"
   ]
  },
  {
   "cell_type": "code",
   "execution_count": null,
   "id": "1c0ab442",
   "metadata": {},
   "outputs": [],
   "source": [
    "answer_unified_price_sum = df_clean[\"price\"].sum()\n",
    "print(answer_unified_price_sum)"
   ]
  },
  {
   "cell_type": "code",
   "execution_count": null,
   "id": "b0b2a906",
   "metadata": {},
   "outputs": [],
   "source": [
    "def low_high_product_mean(df):\n",
    "    \"\"\"\n",
    "    Finally, we will calculate `product_category` with the lowest and highest mean price\n",
    "    for the brand Victoria's Secret.\n",
    "    \"\"\"\n",
    "\n",
    "    # Write your code here\n"
   ]
  },
  {
   "cell_type": "code",
   "execution_count": null,
   "id": "7ca6e219",
   "metadata": {},
   "outputs": [],
   "source": [
    "lowest_mean, highest_mean = low_high_product_mean(df_clean)\n",
    "assert np.allclose(lowest_mean, 3.6203030303030)\n",
    "print(\"highest_mean\", highest_mean)"
   ]
  },
  {
   "cell_type": "code",
   "execution_count": null,
   "id": "4faca5d7",
   "metadata": {},
   "outputs": [],
   "source": []
  },
  {
   "cell_type": "code",
   "execution_count": null,
   "id": "2e8bc644",
   "metadata": {},
   "outputs": [],
   "source": [
    "\n",
    "proposed_solution = {\n",
    "'attempt': {\n",
    "    'course_name': COURSE_NAME,\n",
    "    'exercise_name': EXERCISE_NAME,\n",
    "    'username': STUDENT_NAME,\n",
    "},\n",
    "'task_attempts': [\n",
    "         {\n",
    "            \"name\": \"victoria secret\",\n",
    "            \"answer\": str(answer_victoria_secret),\n",
    "         },\n",
    "         {\n",
    "            \"name\": \"price unification\",\n",
    "            \"answer\": str(answer_unified_price_sum),\n",
    "         },\n",
    "         {\n",
    "            \"name\": \"highest mean\",\n",
    "            \"answer\": str(highest_mean),\n",
    "         },\n",
    "]\n",
    "\n",
    "}\n",
    "check_solution(proposed_solution)\n",
    "    "
   ]
  }
 ],
 "metadata": {},
 "nbformat": 4,
 "nbformat_minor": 5
}
