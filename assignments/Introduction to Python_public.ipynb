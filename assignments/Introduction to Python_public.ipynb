{
 "cells": [
  {
   "cell_type": "markdown",
   "id": "f80dc6a3",
   "metadata": {},
   "source": [
    "<a href=\"https://colab.research.google.com/github/danski3456/coding_exercises/blob/main/Introduction%20to%20Python.ipynb\" target=\"_parent\"><img src=\"https://colab.research.google.com/assets/colab-badge.svg\" alt=\"Open In Colab\"/></a>"
   ]
  },
  {
   "cell_type": "markdown",
   "id": "12daf222",
   "metadata": {},
   "source": [
    "# Objective\n",
    "\n",
    "The objective of this notebook is to explore how to use notebooks for homework.\n",
    "You will be submitting your homework during the course using these notebooks."
   ]
  },
  {
   "cell_type": "code",
   "execution_count": null,
   "id": "8abef353",
   "metadata": {},
   "outputs": [],
   "source": [
    "!wget -nv https://raw.githubusercontent.com/danski3456/notebook_grading/main/utils.py -O utils.py\n",
    "%run utils.py"
   ]
  },
  {
   "cell_type": "code",
   "execution_count": null,
   "id": "8f6fdc07",
   "metadata": {},
   "outputs": [],
   "source": [
    "STUDENT_NAME = \"Nombre Apellido\"\n",
    "COURSE_NAME = \"eccd-feb22\"\n",
    "EXERCISE_NAME = \"python-intro\""
   ]
  },
  {
   "cell_type": "code",
   "execution_count": null,
   "id": "3875346d",
   "metadata": {},
   "outputs": [],
   "source": [
    "import numpy as np"
   ]
  },
  {
   "cell_type": "code",
   "execution_count": null,
   "id": "3081ac14",
   "metadata": {},
   "outputs": [],
   "source": [
    "def remove_vowels(s: str) -> str:\n",
    "    \"\"\"\n",
    "    This function removes all vowels from strings\n",
    "    Example: \"hello\" -> \"hll\"\n",
    "    \"\"\"\n",
    "    \n",
    "    # Write your code here\n"
   ]
  },
  {
   "cell_type": "code",
   "execution_count": null,
   "id": "8b73299e",
   "metadata": {},
   "outputs": [],
   "source": [
    "assert remove_vowels(\"hola\") == \"hl\"\n",
    "answer_1  = remove_vowels(\"este fue un buen día\")\n",
    "print(answer_1)"
   ]
  },
  {
   "cell_type": "code",
   "execution_count": null,
   "id": "fbdb11b7",
   "metadata": {},
   "outputs": [],
   "source": [
    "def sum_list_of_floats(a: list, b:list) -> list:\n",
    "    \"\"\"\n",
    "    Returns the coordinate wise sum of a and b.\n",
    "    \"\"\"\n",
    "    \n",
    "    # Write your code here\n"
   ]
  },
  {
   "cell_type": "code",
   "execution_count": null,
   "id": "32061ad2",
   "metadata": {},
   "outputs": [],
   "source": [
    "assert np.allclose(\n",
    "    sum_list_of_floats(\n",
    "        [1, 2, 3], [4, 5, -2.3]),\n",
    "    [5, 7, 0.7]\n",
    ")\n",
    "answer_2 = sum_list_of_floats([0, 0], [1, -1])\n",
    "print(answer_2)"
   ]
  },
  {
   "cell_type": "code",
   "execution_count": null,
   "id": "b8606b61",
   "metadata": {},
   "outputs": [],
   "source": [
    "\n",
    "\n",
    "proposed_solution = {\n",
    "'attempt': {\n",
    "    'course_name': COURSE_NAME,\n",
    "    'exercise_name': EXERCISE_NAME,\n",
    "    'username': STUDENT_NAME,\n",
    "},\n",
    "'task_attempts': [\n",
    "         {\n",
    "             \"name\": \"remove_vowels\",\n",
    "             \"answer\": str(answer_1),\n",
    "         },\n",
    "                  {\n",
    "             \"name\": \"sum_floats\",\n",
    "             \"answer\": str(answer_2),\n",
    "         }\n",
    "]\n",
    "\n",
    "}\n",
    "check_solution(proposed_solution)\n"
   ]
  }
 ],
 "metadata": {},
 "nbformat": 4,
 "nbformat_minor": 5
}
